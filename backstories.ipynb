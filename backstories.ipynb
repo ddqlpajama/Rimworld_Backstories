{
 "cells": [
  {
   "cell_type": "code",
   "execution_count": 3,
   "id": "initial_id",
   "metadata": {
    "collapsed": true,
    "ExecuteTime": {
     "end_time": "2024-01-03T20:12:44.876004200Z",
     "start_time": "2024-01-03T20:12:44.383500900Z"
    }
   },
   "outputs": [
    {
     "name": "stdout",
     "output_type": "stream",
     "text": [
      "               Title (Short Title)  \\\n",
      "0      Abandoned child (Abandoned)   \n",
      "1        Abandoned orphan (Orphan)   \n",
      "2              Abductee (Abductee)   \n",
      "3              Abductee (Abductee)   \n",
      "4       Academy student (Student )   \n",
      "..                             ...   \n",
      "124          Young pirate (Pirate)   \n",
      "125     Young psychologist (Psych)   \n",
      "126  Youth delinquent (Delinquent)   \n",
      "127        Youth soldier (Soldier)   \n",
      "128        Youth soldier (Soldier)   \n",
      "\n",
      "                                           Description  \\\n",
      "0    [PAWN_nameDef] was a quick witted, funny child...   \n",
      "1    Abandoned at birth, young [PAWN_nameDef] start...   \n",
      "2    [PAWN_nameDef] was abducted at a young age and...   \n",
      "3    [PAWN_nameDef] was abducted by xenohumans when...   \n",
      "4    [PAWN_nameDef] went to school like a good spac...   \n",
      "..                                                 ...   \n",
      "124  [PAWN_nameDef] was born to pirates, in a dirty...   \n",
      "125  [PAWN_nameDef] was born and raised on a poor m...   \n",
      "126  [PAWN_nameDef] was the only child of celebrity...   \n",
      "127  [PAWN_nameDef] was born into a long line of so...   \n",
      "128  Born to a long line of soldiers, [PAWN_nameDef...   \n",
      "\n",
      "                                   Skill Modifications  \\\n",
      "0    Construction: +1 Shooting: +1 Melee: +1 Social...   \n",
      "1         Plants: −3 Shooting: +2 Melee: +3 Social: +2   \n",
      "2    Construction: +2 Melee: +2 Cooking: +2 Craftin...   \n",
      "3     Construction: +2 Mining: +4 Melee: +4 Social: −2   \n",
      "4                              Social: +3 Crafting: +2   \n",
      "..                                                 ...   \n",
      "124               Shooting: +2 Social: +2 Crafting: +2   \n",
      "125                            Social: +4 Medicine: +2   \n",
      "126     Shooting: +3 Melee: +1 Social: −1 Crafting: +4   \n",
      "127            Construction: +2 Shooting: +2 Melee: +2   \n",
      "128            Construction: +2 Shooting: +2 Melee: +2   \n",
      "\n",
      "                 Incapable of  \n",
      "0            Cooking Cleaning  \n",
      "1                         NaN  \n",
      "2                         NaN  \n",
      "3                Intellectual  \n",
      "4                    Cleaning  \n",
      "..                        ...  \n",
      "124                       NaN  \n",
      "125                  Artistic  \n",
      "126  Caring Artistic Cleaning  \n",
      "127            Hauling Mining  \n",
      "128                  Artistic  \n",
      "\n",
      "[290 rows x 4 columns]\n"
     ]
    }
   ],
   "source": [
    "import pandas as pd\n",
    "\n",
    "child_a_m_html = './Childhood_Stories_A-M.txt'\n",
    "child_a_m_df = pd.read_html(child_a_m_html, encoding='utf-8')[0]\n",
    "child_a_m_df = child_a_m_df.iloc[:, :4]\n",
    "\n",
    "child_n_z_html = './Childhood_Stories_N-Z.txt'\n",
    "child_n_z_df = pd.read_html(child_n_z_html, encoding='utf-8')[0]\n",
    "child_n_z_df = child_n_z_df.iloc[:, :4]\n",
    "\n",
    "childhood_df = pd.concat([child_a_m_df, child_n_z_df])\n",
    "del child_a_m_df, child_n_z_df, child_a_m_html, child_n_z_html\n",
    "print(childhood_df)"
   ]
  },
  {
   "cell_type": "code",
   "outputs": [],
   "source": [
    "def extract_stats(row, stat_name) -> int:\n",
    "\tstat_str = row['Skill Modifications']\n",
    "\tstart_index = stat_str.find(stat_name)\n",
    "\tif start_index == -1:\n",
    "\t\treturn 0\n",
    "\t\n",
    "\tvalue_start = start_index + len(stat_name) + 1\n",
    "\tend_index = stat_str.find(' ' , value_start)\n",
    "\tif end_index == -1:\n",
    "\t\tend_index = None\n",
    "\t\n",
    "\tstr_value = stat_str[value_start:end_index]\n",
    "\tstr_value = str_value.replace('−', '-')\n",
    "\ttry:\n",
    "\t\treturn int(str_value)\n",
    "\texcept:\n",
    "\t\tprint(stat_name)\n",
    "\t\tprint(stat_str)\n",
    "\t\tprint(str_value)\n",
    "\t\traise"
   ],
   "metadata": {
    "collapsed": false,
    "ExecuteTime": {
     "end_time": "2024-01-03T20:12:44.877015400Z",
     "start_time": "2024-01-03T20:12:44.875495800Z"
    }
   },
   "id": "1931bbe74c53b456",
   "execution_count": 4
  },
  {
   "cell_type": "code",
   "outputs": [],
   "source": [
    "def append_stats(df, column_name: str):\n",
    "\tunique_stats = set()\n",
    "\tfor stat_str in df[column_name]:\n",
    "\t\tstats = stat_str.split()\n",
    "\t\tunique_stats.update(stats[::2])\n",
    "\t\t\n",
    "\tfor stat_name in unique_stats:\n",
    "\t\tdf[stat_name[:-1]] = df.apply(lambda row: extract_stats(row, stat_name), axis=1)\n",
    "\t\t\n",
    "\tdf.drop(column_name, axis=1, inplace=True)"
   ],
   "metadata": {
    "collapsed": false,
    "ExecuteTime": {
     "end_time": "2024-01-03T20:12:44.882761800Z",
     "start_time": "2024-01-03T20:12:44.879012800Z"
    }
   },
   "id": "ea888cee410a40c6",
   "execution_count": 5
  },
  {
   "cell_type": "code",
   "outputs": [],
   "source": [
    "def sort_by_sum_of_stats(df):\n",
    "\tm, n = 3, 14\n",
    "\tdf['stat_sum'] = df.iloc[:, m:n+1].sum(axis=1)\n",
    "\tdf.sort_values(by='stat_sum', ascending=False, inplace=True)\n",
    "\n",
    "\tdf.insert(3, 'stat_sum', df.pop('stat_sum'))\n",
    "\tdf.drop(columns=['Description'], axis=1, inplace=True)"
   ],
   "metadata": {
    "collapsed": false,
    "ExecuteTime": {
     "end_time": "2024-01-03T20:31:35.463121300Z",
     "start_time": "2024-01-03T20:31:35.457661900Z"
    }
   },
   "id": "2ce6da6a0dfe1930",
   "execution_count": 26
  },
  {
   "cell_type": "code",
   "outputs": [
    {
     "data": {
      "text/plain": "               Title (Short Title)  \\\n63     Corp-bred student (Student)   \n116  Wasteland wanderer (Wanderer)   \n87        Fallen prodigy (Prodigy)   \n115          War refugee (Refugee)   \n119          High baroness (Noble)   \n115        Hacker prodigy (Hacker)   \n111     G-nome sculptor (Sculptor)   \n106         Gang member (Gang kid)   \n1     Navy pathfinder (Pathfinder)   \n94   Trainee alchemist (Alchemist)   \n78               Dreamer (Dreamer)   \n102          Freethinker (Thinker)   \n2                      Nerd (Nerd)   \n61    Core world student (Student)   \n38                   Cadet (Cadet)   \n153         Midworld loner (Loner)   \n30   Bodyguard trainee (Bodyguard)   \n27      Blackjack player (Gambler)   \n87        Technical kid (Tech kid)   \n5            Officer cadet (Cadet)   \n123   Hunter scavenger (Scavenger)   \n82       Earth colonist (Colonist)   \n39     Reclusive prodigy (Prodigy)   \n19         Pizza lover (Pizza kid)   \n2              Abductee (Abductee)   \n3              Abductee (Abductee)   \n5          Accursed child (Cursed)   \n51      Shooting coma (Coma child)   \n58      Son of a huntress (Hunter)   \n104           Galactic page (Page)   \n114          War child (War child)   \n45       Science prodigy (Prodigy)   \n155       Militant child (Soldier)   \n92             Farmer boy (Farmer)   \n18       Pit gladiator (Gladiator)   \n119        Winerunner (Winerunner)   \n136     Labor camp orphan (Orphan)   \n71           Station whelp (Whelp)   \n22    Aspiring engineer (Tinkerer)   \n151         Midworld cadet (Cadet)   \n63          Spacer orphan (Orphan)   \n67         Spoiled child (Spoiled)   \n29       Project subject (Subject)   \n93   Farmer's daughter (Farm girl)   \n138      Mad scientist (Scientist)   \n143      Medical student (Student)   \n149  Mercenary recruit (Mercenary)   \n77        Dreaded baby (Baby dude)   \n95             Feral child (Feral)   \n105      Vatgrown assassin (Clone)   \n\n                                       Incapable of  stat_sum  Social  \\\n63                                 Violent Artistic        18       7   \n116                                        Artistic        15       3   \n87                                           Social        14       0   \n115                      Social Artistic Plant work        13       0   \n119                                      Dumb labor        11       7   \n115                              Dumb labor Cooking        11       0   \n111                                Cooking Cleaning        10       2   \n106                                        Artistic        10       0   \n1                                               NaN        10       3   \n94                                              NaN        10       0   \n78                                              NaN         9       4   \n102                                             NaN         9       2   \n2                                            Social         9       0   \n61                               Cooking Plant work         9       0   \n38                                          Violent         9       0   \n153                                             NaN         9      -2   \n30                                         Artistic         9       0   \n27                             Violent Firefighting         9       4   \n87                                         Artistic         9       0   \n5                                          Artistic         9       1   \n123                                         Animals         9       2   \n82                            Artistic Firefighting         9       0   \n39                                  Social Artistic         8       0   \n19                                           Caring         8       0   \n2                                               NaN         8       0   \n3                                      Intellectual         8      -2   \n5              Firefighting Cleaning Hauling Mining         8       0   \n51   Intellectual Dumb labor Skilled labor Artistic         8       0   \n58                                     Intellectual         8       0   \n104                        Dumb labor Skilled labor         8       6   \n114                                 Caring Artistic         8       0   \n45                             Violent Firefighting         8       0   \n155                                             NaN         8       0   \n92                       Caring Social Firefighting         8       0   \n18                                     Intellectual         8       0   \n119                                             NaN         8       2   \n136                                        Artistic         8       0   \n71                                    Caring Social         8       0   \n22                                              NaN         8      -2   \n151                                             NaN         8       3   \n63                                  Artistic Mining         8       0   \n67                                       Dumb labor         8       0   \n29                                         Cleaning         8       0   \n93                                          Violent         7      -1   \n138                                        Cleaning         7       2   \n143                                             NaN         7       1   \n149                                             NaN         7       0   \n77                                              NaN         7       0   \n95                              Intellectual Social         7       0   \n105              Caring Artistic Cooking Plant work         7       0   \n\n     Medicine  Crafting  Animals  Cooking  Construction  Artistic  Plants  \\\n63          3         3        0        0             0         0       0   \n116         5         4        0        0             0         0       0   \n87          3         2        0        0             2         0       2   \n115         0         0        0       -3             0         0       0   \n119         0         0        0        0             0         2       0   \n115         4         0        0        0             0         0       0   \n111         0         2        0        0             0         4       0   \n106         3         0        0        0             0         0       0   \n1           0         0        4       -2             0         0       0   \n94          3         0        0        4             0         0       0   \n78          0         0        0        0             0         3       0   \n102         0         0        0        0             0         2       0   \n2           2         2        0        0             1         0       0   \n61          0         4        0        0             2         4       0   \n38          0         3        0        0             3         0       0   \n153         0         5        0        0             3         0       0   \n30          2         0        0        0             0         0       2   \n27          0         0        0        0             0         0       0   \n87          3         2        2        0             2         0       0   \n5           1         0        0        0             0         0       1   \n123         2         0        0        2             0         3       0   \n82          0         2        0        3             0         0       4   \n39          4         0        0        0             0         0       0   \n19          0         0        0        3             0         0       0   \n2           0         2        0        2             2         0       0   \n3           0         0        0        0             2         0       0   \n5           4         0        0        0            -1         0       0   \n51          0         0        0        0             0         0       0   \n58          1         1        0        2             0         0       0   \n104         0         0        0        0             0         2       0   \n114         0         0        0        0             0         0       0   \n45          3         0        0        0             0         2       0   \n155         0         0        0        0             0         0       0   \n92          0         2        0        0             1         0       4   \n18          0         0        0        0             0         0       0   \n119         0         2        0        2             0         0       0   \n136         0         0        0        0             4         0       0   \n71          0         0        0        0             0         0       0   \n22          0         2        0        0             2         0       0   \n151         0         2        0        0             0         0       0   \n63          0         2        0        0             0         0       0   \n67          0         0        3        0             0         2       0   \n29          0         0        0        0             0         0       0   \n93          0         3        0        2             0         3       0   \n138         0         0        0        0             0         0       0   \n143         6         0        0        0             0         0       0   \n149         0         3        0        0             0         0       0   \n77          0         0        0        3             0         3       0   \n95          0         1        0        0             0         0       2   \n105         0         0        0        0             2         0       0   \n\n     Shooting  Intellectual  Melee  Mining  \n63          0             5      0       0  \n116         3             0      0       0  \n87          0             5      0       0  \n115         6             5      5       0  \n119         0             2      0       0  \n115         0             7      0       0  \n111         0             2      0       0  \n106         3             0      4       0  \n1           2             3      0       0  \n94          0             3      0       0  \n78          0             0      2       0  \n102         3             2      0       0  \n2           0             4      0       0  \n61         -1             0      0       0  \n38          0             3      0       0  \n153         3             0      0       0  \n30          3             0      2       0  \n27          0             5      0       0  \n87          0             0      0       0  \n5           3             0      3       0  \n123         0             0      0       0  \n82          0             0      0       0  \n39          0             4      0       0  \n19          0             0      5       0  \n2           0             0      2       0  \n3           0             0      4       4  \n5           0             5      0       0  \n51          8             0      0       0  \n58          2             0      2       0  \n104         0             0      0       0  \n114         5             0      3       0  \n45          0             3      0       0  \n155         3             2      3       0  \n92          0             0      0       1  \n18          4             0      4       0  \n119         0             0      2       0  \n136         0             0      0       4  \n71          3             0      5       0  \n22          0             4      0       2  \n151         0             3      0       0  \n63          2             0      4       0  \n67          0             3      0       0  \n29          4             0      4       0  \n93          0             0      0       0  \n138         0             4      1       0  \n143         0             0      0       0  \n149         3             0      1       0  \n77          1             0      0       0  \n95          0             0      4       0  \n105         4             0      1       0  ",
      "text/html": "<div>\n<style scoped>\n    .dataframe tbody tr th:only-of-type {\n        vertical-align: middle;\n    }\n\n    .dataframe tbody tr th {\n        vertical-align: top;\n    }\n\n    .dataframe thead th {\n        text-align: right;\n    }\n</style>\n<table border=\"1\" class=\"dataframe\">\n  <thead>\n    <tr style=\"text-align: right;\">\n      <th></th>\n      <th>Title (Short Title)</th>\n      <th>Incapable of</th>\n      <th>stat_sum</th>\n      <th>Social</th>\n      <th>Medicine</th>\n      <th>Crafting</th>\n      <th>Animals</th>\n      <th>Cooking</th>\n      <th>Construction</th>\n      <th>Artistic</th>\n      <th>Plants</th>\n      <th>Shooting</th>\n      <th>Intellectual</th>\n      <th>Melee</th>\n      <th>Mining</th>\n    </tr>\n  </thead>\n  <tbody>\n    <tr>\n      <th>63</th>\n      <td>Corp-bred student (Student)</td>\n      <td>Violent Artistic</td>\n      <td>18</td>\n      <td>7</td>\n      <td>3</td>\n      <td>3</td>\n      <td>0</td>\n      <td>0</td>\n      <td>0</td>\n      <td>0</td>\n      <td>0</td>\n      <td>0</td>\n      <td>5</td>\n      <td>0</td>\n      <td>0</td>\n    </tr>\n    <tr>\n      <th>116</th>\n      <td>Wasteland wanderer (Wanderer)</td>\n      <td>Artistic</td>\n      <td>15</td>\n      <td>3</td>\n      <td>5</td>\n      <td>4</td>\n      <td>0</td>\n      <td>0</td>\n      <td>0</td>\n      <td>0</td>\n      <td>0</td>\n      <td>3</td>\n      <td>0</td>\n      <td>0</td>\n      <td>0</td>\n    </tr>\n    <tr>\n      <th>87</th>\n      <td>Fallen prodigy (Prodigy)</td>\n      <td>Social</td>\n      <td>14</td>\n      <td>0</td>\n      <td>3</td>\n      <td>2</td>\n      <td>0</td>\n      <td>0</td>\n      <td>2</td>\n      <td>0</td>\n      <td>2</td>\n      <td>0</td>\n      <td>5</td>\n      <td>0</td>\n      <td>0</td>\n    </tr>\n    <tr>\n      <th>115</th>\n      <td>War refugee (Refugee)</td>\n      <td>Social Artistic Plant work</td>\n      <td>13</td>\n      <td>0</td>\n      <td>0</td>\n      <td>0</td>\n      <td>0</td>\n      <td>-3</td>\n      <td>0</td>\n      <td>0</td>\n      <td>0</td>\n      <td>6</td>\n      <td>5</td>\n      <td>5</td>\n      <td>0</td>\n    </tr>\n    <tr>\n      <th>119</th>\n      <td>High baroness (Noble)</td>\n      <td>Dumb labor</td>\n      <td>11</td>\n      <td>7</td>\n      <td>0</td>\n      <td>0</td>\n      <td>0</td>\n      <td>0</td>\n      <td>0</td>\n      <td>2</td>\n      <td>0</td>\n      <td>0</td>\n      <td>2</td>\n      <td>0</td>\n      <td>0</td>\n    </tr>\n    <tr>\n      <th>115</th>\n      <td>Hacker prodigy (Hacker)</td>\n      <td>Dumb labor Cooking</td>\n      <td>11</td>\n      <td>0</td>\n      <td>4</td>\n      <td>0</td>\n      <td>0</td>\n      <td>0</td>\n      <td>0</td>\n      <td>0</td>\n      <td>0</td>\n      <td>0</td>\n      <td>7</td>\n      <td>0</td>\n      <td>0</td>\n    </tr>\n    <tr>\n      <th>111</th>\n      <td>G-nome sculptor (Sculptor)</td>\n      <td>Cooking Cleaning</td>\n      <td>10</td>\n      <td>2</td>\n      <td>0</td>\n      <td>2</td>\n      <td>0</td>\n      <td>0</td>\n      <td>0</td>\n      <td>4</td>\n      <td>0</td>\n      <td>0</td>\n      <td>2</td>\n      <td>0</td>\n      <td>0</td>\n    </tr>\n    <tr>\n      <th>106</th>\n      <td>Gang member (Gang kid)</td>\n      <td>Artistic</td>\n      <td>10</td>\n      <td>0</td>\n      <td>3</td>\n      <td>0</td>\n      <td>0</td>\n      <td>0</td>\n      <td>0</td>\n      <td>0</td>\n      <td>0</td>\n      <td>3</td>\n      <td>0</td>\n      <td>4</td>\n      <td>0</td>\n    </tr>\n    <tr>\n      <th>1</th>\n      <td>Navy pathfinder (Pathfinder)</td>\n      <td>NaN</td>\n      <td>10</td>\n      <td>3</td>\n      <td>0</td>\n      <td>0</td>\n      <td>4</td>\n      <td>-2</td>\n      <td>0</td>\n      <td>0</td>\n      <td>0</td>\n      <td>2</td>\n      <td>3</td>\n      <td>0</td>\n      <td>0</td>\n    </tr>\n    <tr>\n      <th>94</th>\n      <td>Trainee alchemist (Alchemist)</td>\n      <td>NaN</td>\n      <td>10</td>\n      <td>0</td>\n      <td>3</td>\n      <td>0</td>\n      <td>0</td>\n      <td>4</td>\n      <td>0</td>\n      <td>0</td>\n      <td>0</td>\n      <td>0</td>\n      <td>3</td>\n      <td>0</td>\n      <td>0</td>\n    </tr>\n    <tr>\n      <th>78</th>\n      <td>Dreamer (Dreamer)</td>\n      <td>NaN</td>\n      <td>9</td>\n      <td>4</td>\n      <td>0</td>\n      <td>0</td>\n      <td>0</td>\n      <td>0</td>\n      <td>0</td>\n      <td>3</td>\n      <td>0</td>\n      <td>0</td>\n      <td>0</td>\n      <td>2</td>\n      <td>0</td>\n    </tr>\n    <tr>\n      <th>102</th>\n      <td>Freethinker (Thinker)</td>\n      <td>NaN</td>\n      <td>9</td>\n      <td>2</td>\n      <td>0</td>\n      <td>0</td>\n      <td>0</td>\n      <td>0</td>\n      <td>0</td>\n      <td>2</td>\n      <td>0</td>\n      <td>3</td>\n      <td>2</td>\n      <td>0</td>\n      <td>0</td>\n    </tr>\n    <tr>\n      <th>2</th>\n      <td>Nerd (Nerd)</td>\n      <td>Social</td>\n      <td>9</td>\n      <td>0</td>\n      <td>2</td>\n      <td>2</td>\n      <td>0</td>\n      <td>0</td>\n      <td>1</td>\n      <td>0</td>\n      <td>0</td>\n      <td>0</td>\n      <td>4</td>\n      <td>0</td>\n      <td>0</td>\n    </tr>\n    <tr>\n      <th>61</th>\n      <td>Core world student (Student)</td>\n      <td>Cooking Plant work</td>\n      <td>9</td>\n      <td>0</td>\n      <td>0</td>\n      <td>4</td>\n      <td>0</td>\n      <td>0</td>\n      <td>2</td>\n      <td>4</td>\n      <td>0</td>\n      <td>-1</td>\n      <td>0</td>\n      <td>0</td>\n      <td>0</td>\n    </tr>\n    <tr>\n      <th>38</th>\n      <td>Cadet (Cadet)</td>\n      <td>Violent</td>\n      <td>9</td>\n      <td>0</td>\n      <td>0</td>\n      <td>3</td>\n      <td>0</td>\n      <td>0</td>\n      <td>3</td>\n      <td>0</td>\n      <td>0</td>\n      <td>0</td>\n      <td>3</td>\n      <td>0</td>\n      <td>0</td>\n    </tr>\n    <tr>\n      <th>153</th>\n      <td>Midworld loner (Loner)</td>\n      <td>NaN</td>\n      <td>9</td>\n      <td>-2</td>\n      <td>0</td>\n      <td>5</td>\n      <td>0</td>\n      <td>0</td>\n      <td>3</td>\n      <td>0</td>\n      <td>0</td>\n      <td>3</td>\n      <td>0</td>\n      <td>0</td>\n      <td>0</td>\n    </tr>\n    <tr>\n      <th>30</th>\n      <td>Bodyguard trainee (Bodyguard)</td>\n      <td>Artistic</td>\n      <td>9</td>\n      <td>0</td>\n      <td>2</td>\n      <td>0</td>\n      <td>0</td>\n      <td>0</td>\n      <td>0</td>\n      <td>0</td>\n      <td>2</td>\n      <td>3</td>\n      <td>0</td>\n      <td>2</td>\n      <td>0</td>\n    </tr>\n    <tr>\n      <th>27</th>\n      <td>Blackjack player (Gambler)</td>\n      <td>Violent Firefighting</td>\n      <td>9</td>\n      <td>4</td>\n      <td>0</td>\n      <td>0</td>\n      <td>0</td>\n      <td>0</td>\n      <td>0</td>\n      <td>0</td>\n      <td>0</td>\n      <td>0</td>\n      <td>5</td>\n      <td>0</td>\n      <td>0</td>\n    </tr>\n    <tr>\n      <th>87</th>\n      <td>Technical kid (Tech kid)</td>\n      <td>Artistic</td>\n      <td>9</td>\n      <td>0</td>\n      <td>3</td>\n      <td>2</td>\n      <td>2</td>\n      <td>0</td>\n      <td>2</td>\n      <td>0</td>\n      <td>0</td>\n      <td>0</td>\n      <td>0</td>\n      <td>0</td>\n      <td>0</td>\n    </tr>\n    <tr>\n      <th>5</th>\n      <td>Officer cadet (Cadet)</td>\n      <td>Artistic</td>\n      <td>9</td>\n      <td>1</td>\n      <td>1</td>\n      <td>0</td>\n      <td>0</td>\n      <td>0</td>\n      <td>0</td>\n      <td>0</td>\n      <td>1</td>\n      <td>3</td>\n      <td>0</td>\n      <td>3</td>\n      <td>0</td>\n    </tr>\n    <tr>\n      <th>123</th>\n      <td>Hunter scavenger (Scavenger)</td>\n      <td>Animals</td>\n      <td>9</td>\n      <td>2</td>\n      <td>2</td>\n      <td>0</td>\n      <td>0</td>\n      <td>2</td>\n      <td>0</td>\n      <td>3</td>\n      <td>0</td>\n      <td>0</td>\n      <td>0</td>\n      <td>0</td>\n      <td>0</td>\n    </tr>\n    <tr>\n      <th>82</th>\n      <td>Earth colonist (Colonist)</td>\n      <td>Artistic Firefighting</td>\n      <td>9</td>\n      <td>0</td>\n      <td>0</td>\n      <td>2</td>\n      <td>0</td>\n      <td>3</td>\n      <td>0</td>\n      <td>0</td>\n      <td>4</td>\n      <td>0</td>\n      <td>0</td>\n      <td>0</td>\n      <td>0</td>\n    </tr>\n    <tr>\n      <th>39</th>\n      <td>Reclusive prodigy (Prodigy)</td>\n      <td>Social Artistic</td>\n      <td>8</td>\n      <td>0</td>\n      <td>4</td>\n      <td>0</td>\n      <td>0</td>\n      <td>0</td>\n      <td>0</td>\n      <td>0</td>\n      <td>0</td>\n      <td>0</td>\n      <td>4</td>\n      <td>0</td>\n      <td>0</td>\n    </tr>\n    <tr>\n      <th>19</th>\n      <td>Pizza lover (Pizza kid)</td>\n      <td>Caring</td>\n      <td>8</td>\n      <td>0</td>\n      <td>0</td>\n      <td>0</td>\n      <td>0</td>\n      <td>3</td>\n      <td>0</td>\n      <td>0</td>\n      <td>0</td>\n      <td>0</td>\n      <td>0</td>\n      <td>5</td>\n      <td>0</td>\n    </tr>\n    <tr>\n      <th>2</th>\n      <td>Abductee (Abductee)</td>\n      <td>NaN</td>\n      <td>8</td>\n      <td>0</td>\n      <td>0</td>\n      <td>2</td>\n      <td>0</td>\n      <td>2</td>\n      <td>2</td>\n      <td>0</td>\n      <td>0</td>\n      <td>0</td>\n      <td>0</td>\n      <td>2</td>\n      <td>0</td>\n    </tr>\n    <tr>\n      <th>3</th>\n      <td>Abductee (Abductee)</td>\n      <td>Intellectual</td>\n      <td>8</td>\n      <td>-2</td>\n      <td>0</td>\n      <td>0</td>\n      <td>0</td>\n      <td>0</td>\n      <td>2</td>\n      <td>0</td>\n      <td>0</td>\n      <td>0</td>\n      <td>0</td>\n      <td>4</td>\n      <td>4</td>\n    </tr>\n    <tr>\n      <th>5</th>\n      <td>Accursed child (Cursed)</td>\n      <td>Firefighting Cleaning Hauling Mining</td>\n      <td>8</td>\n      <td>0</td>\n      <td>4</td>\n      <td>0</td>\n      <td>0</td>\n      <td>0</td>\n      <td>-1</td>\n      <td>0</td>\n      <td>0</td>\n      <td>0</td>\n      <td>5</td>\n      <td>0</td>\n      <td>0</td>\n    </tr>\n    <tr>\n      <th>51</th>\n      <td>Shooting coma (Coma child)</td>\n      <td>Intellectual Dumb labor Skilled labor Artistic</td>\n      <td>8</td>\n      <td>0</td>\n      <td>0</td>\n      <td>0</td>\n      <td>0</td>\n      <td>0</td>\n      <td>0</td>\n      <td>0</td>\n      <td>0</td>\n      <td>8</td>\n      <td>0</td>\n      <td>0</td>\n      <td>0</td>\n    </tr>\n    <tr>\n      <th>58</th>\n      <td>Son of a huntress (Hunter)</td>\n      <td>Intellectual</td>\n      <td>8</td>\n      <td>0</td>\n      <td>1</td>\n      <td>1</td>\n      <td>0</td>\n      <td>2</td>\n      <td>0</td>\n      <td>0</td>\n      <td>0</td>\n      <td>2</td>\n      <td>0</td>\n      <td>2</td>\n      <td>0</td>\n    </tr>\n    <tr>\n      <th>104</th>\n      <td>Galactic page (Page)</td>\n      <td>Dumb labor Skilled labor</td>\n      <td>8</td>\n      <td>6</td>\n      <td>0</td>\n      <td>0</td>\n      <td>0</td>\n      <td>0</td>\n      <td>0</td>\n      <td>2</td>\n      <td>0</td>\n      <td>0</td>\n      <td>0</td>\n      <td>0</td>\n      <td>0</td>\n    </tr>\n    <tr>\n      <th>114</th>\n      <td>War child (War child)</td>\n      <td>Caring Artistic</td>\n      <td>8</td>\n      <td>0</td>\n      <td>0</td>\n      <td>0</td>\n      <td>0</td>\n      <td>0</td>\n      <td>0</td>\n      <td>0</td>\n      <td>0</td>\n      <td>5</td>\n      <td>0</td>\n      <td>3</td>\n      <td>0</td>\n    </tr>\n    <tr>\n      <th>45</th>\n      <td>Science prodigy (Prodigy)</td>\n      <td>Violent Firefighting</td>\n      <td>8</td>\n      <td>0</td>\n      <td>3</td>\n      <td>0</td>\n      <td>0</td>\n      <td>0</td>\n      <td>0</td>\n      <td>2</td>\n      <td>0</td>\n      <td>0</td>\n      <td>3</td>\n      <td>0</td>\n      <td>0</td>\n    </tr>\n    <tr>\n      <th>155</th>\n      <td>Militant child (Soldier)</td>\n      <td>NaN</td>\n      <td>8</td>\n      <td>0</td>\n      <td>0</td>\n      <td>0</td>\n      <td>0</td>\n      <td>0</td>\n      <td>0</td>\n      <td>0</td>\n      <td>0</td>\n      <td>3</td>\n      <td>2</td>\n      <td>3</td>\n      <td>0</td>\n    </tr>\n    <tr>\n      <th>92</th>\n      <td>Farmer boy (Farmer)</td>\n      <td>Caring Social Firefighting</td>\n      <td>8</td>\n      <td>0</td>\n      <td>0</td>\n      <td>2</td>\n      <td>0</td>\n      <td>0</td>\n      <td>1</td>\n      <td>0</td>\n      <td>4</td>\n      <td>0</td>\n      <td>0</td>\n      <td>0</td>\n      <td>1</td>\n    </tr>\n    <tr>\n      <th>18</th>\n      <td>Pit gladiator (Gladiator)</td>\n      <td>Intellectual</td>\n      <td>8</td>\n      <td>0</td>\n      <td>0</td>\n      <td>0</td>\n      <td>0</td>\n      <td>0</td>\n      <td>0</td>\n      <td>0</td>\n      <td>0</td>\n      <td>4</td>\n      <td>0</td>\n      <td>4</td>\n      <td>0</td>\n    </tr>\n    <tr>\n      <th>119</th>\n      <td>Winerunner (Winerunner)</td>\n      <td>NaN</td>\n      <td>8</td>\n      <td>2</td>\n      <td>0</td>\n      <td>2</td>\n      <td>0</td>\n      <td>2</td>\n      <td>0</td>\n      <td>0</td>\n      <td>0</td>\n      <td>0</td>\n      <td>0</td>\n      <td>2</td>\n      <td>0</td>\n    </tr>\n    <tr>\n      <th>136</th>\n      <td>Labor camp orphan (Orphan)</td>\n      <td>Artistic</td>\n      <td>8</td>\n      <td>0</td>\n      <td>0</td>\n      <td>0</td>\n      <td>0</td>\n      <td>0</td>\n      <td>4</td>\n      <td>0</td>\n      <td>0</td>\n      <td>0</td>\n      <td>0</td>\n      <td>0</td>\n      <td>4</td>\n    </tr>\n    <tr>\n      <th>71</th>\n      <td>Station whelp (Whelp)</td>\n      <td>Caring Social</td>\n      <td>8</td>\n      <td>0</td>\n      <td>0</td>\n      <td>0</td>\n      <td>0</td>\n      <td>0</td>\n      <td>0</td>\n      <td>0</td>\n      <td>0</td>\n      <td>3</td>\n      <td>0</td>\n      <td>5</td>\n      <td>0</td>\n    </tr>\n    <tr>\n      <th>22</th>\n      <td>Aspiring engineer (Tinkerer)</td>\n      <td>NaN</td>\n      <td>8</td>\n      <td>-2</td>\n      <td>0</td>\n      <td>2</td>\n      <td>0</td>\n      <td>0</td>\n      <td>2</td>\n      <td>0</td>\n      <td>0</td>\n      <td>0</td>\n      <td>4</td>\n      <td>0</td>\n      <td>2</td>\n    </tr>\n    <tr>\n      <th>151</th>\n      <td>Midworld cadet (Cadet)</td>\n      <td>NaN</td>\n      <td>8</td>\n      <td>3</td>\n      <td>0</td>\n      <td>2</td>\n      <td>0</td>\n      <td>0</td>\n      <td>0</td>\n      <td>0</td>\n      <td>0</td>\n      <td>0</td>\n      <td>3</td>\n      <td>0</td>\n      <td>0</td>\n    </tr>\n    <tr>\n      <th>63</th>\n      <td>Spacer orphan (Orphan)</td>\n      <td>Artistic Mining</td>\n      <td>8</td>\n      <td>0</td>\n      <td>0</td>\n      <td>2</td>\n      <td>0</td>\n      <td>0</td>\n      <td>0</td>\n      <td>0</td>\n      <td>0</td>\n      <td>2</td>\n      <td>0</td>\n      <td>4</td>\n      <td>0</td>\n    </tr>\n    <tr>\n      <th>67</th>\n      <td>Spoiled child (Spoiled)</td>\n      <td>Dumb labor</td>\n      <td>8</td>\n      <td>0</td>\n      <td>0</td>\n      <td>0</td>\n      <td>3</td>\n      <td>0</td>\n      <td>0</td>\n      <td>2</td>\n      <td>0</td>\n      <td>0</td>\n      <td>3</td>\n      <td>0</td>\n      <td>0</td>\n    </tr>\n    <tr>\n      <th>29</th>\n      <td>Project subject (Subject)</td>\n      <td>Cleaning</td>\n      <td>8</td>\n      <td>0</td>\n      <td>0</td>\n      <td>0</td>\n      <td>0</td>\n      <td>0</td>\n      <td>0</td>\n      <td>0</td>\n      <td>0</td>\n      <td>4</td>\n      <td>0</td>\n      <td>4</td>\n      <td>0</td>\n    </tr>\n    <tr>\n      <th>93</th>\n      <td>Farmer's daughter (Farm girl)</td>\n      <td>Violent</td>\n      <td>7</td>\n      <td>-1</td>\n      <td>0</td>\n      <td>3</td>\n      <td>0</td>\n      <td>2</td>\n      <td>0</td>\n      <td>3</td>\n      <td>0</td>\n      <td>0</td>\n      <td>0</td>\n      <td>0</td>\n      <td>0</td>\n    </tr>\n    <tr>\n      <th>138</th>\n      <td>Mad scientist (Scientist)</td>\n      <td>Cleaning</td>\n      <td>7</td>\n      <td>2</td>\n      <td>0</td>\n      <td>0</td>\n      <td>0</td>\n      <td>0</td>\n      <td>0</td>\n      <td>0</td>\n      <td>0</td>\n      <td>0</td>\n      <td>4</td>\n      <td>1</td>\n      <td>0</td>\n    </tr>\n    <tr>\n      <th>143</th>\n      <td>Medical student (Student)</td>\n      <td>NaN</td>\n      <td>7</td>\n      <td>1</td>\n      <td>6</td>\n      <td>0</td>\n      <td>0</td>\n      <td>0</td>\n      <td>0</td>\n      <td>0</td>\n      <td>0</td>\n      <td>0</td>\n      <td>0</td>\n      <td>0</td>\n      <td>0</td>\n    </tr>\n    <tr>\n      <th>149</th>\n      <td>Mercenary recruit (Mercenary)</td>\n      <td>NaN</td>\n      <td>7</td>\n      <td>0</td>\n      <td>0</td>\n      <td>3</td>\n      <td>0</td>\n      <td>0</td>\n      <td>0</td>\n      <td>0</td>\n      <td>0</td>\n      <td>3</td>\n      <td>0</td>\n      <td>1</td>\n      <td>0</td>\n    </tr>\n    <tr>\n      <th>77</th>\n      <td>Dreaded baby (Baby dude)</td>\n      <td>NaN</td>\n      <td>7</td>\n      <td>0</td>\n      <td>0</td>\n      <td>0</td>\n      <td>0</td>\n      <td>3</td>\n      <td>0</td>\n      <td>3</td>\n      <td>0</td>\n      <td>1</td>\n      <td>0</td>\n      <td>0</td>\n      <td>0</td>\n    </tr>\n    <tr>\n      <th>95</th>\n      <td>Feral child (Feral)</td>\n      <td>Intellectual Social</td>\n      <td>7</td>\n      <td>0</td>\n      <td>0</td>\n      <td>1</td>\n      <td>0</td>\n      <td>0</td>\n      <td>0</td>\n      <td>0</td>\n      <td>2</td>\n      <td>0</td>\n      <td>0</td>\n      <td>4</td>\n      <td>0</td>\n    </tr>\n    <tr>\n      <th>105</th>\n      <td>Vatgrown assassin (Clone)</td>\n      <td>Caring Artistic Cooking Plant work</td>\n      <td>7</td>\n      <td>0</td>\n      <td>0</td>\n      <td>0</td>\n      <td>0</td>\n      <td>0</td>\n      <td>2</td>\n      <td>0</td>\n      <td>0</td>\n      <td>4</td>\n      <td>0</td>\n      <td>1</td>\n      <td>0</td>\n    </tr>\n  </tbody>\n</table>\n</div>"
     },
     "metadata": {},
     "output_type": "display_data"
    }
   ],
   "source": [
    "childhood_df_copy = childhood_df.copy()\n",
    "append_stats(childhood_df_copy, 'Skill Modifications')\n",
    "sort_by_sum_of_stats(childhood_df_copy)\n",
    "display(childhood_df_copy.head(50))"
   ],
   "metadata": {
    "collapsed": false,
    "ExecuteTime": {
     "end_time": "2024-01-03T20:34:15.898154500Z",
     "start_time": "2024-01-03T20:34:15.863756700Z"
    }
   },
   "id": "2b549492c1d99117",
   "execution_count": 30
  },
  {
   "cell_type": "code",
   "outputs": [
    {
     "data": {
      "text/plain": "-1"
     },
     "execution_count": 50,
     "metadata": {},
     "output_type": "execute_result"
    }
   ],
   "source": [
    "int('-1')"
   ],
   "metadata": {
    "collapsed": false,
    "ExecuteTime": {
     "end_time": "2024-01-03T19:33:29.681756200Z",
     "start_time": "2024-01-03T19:33:29.678494900Z"
    }
   },
   "id": "57286c3def26970f",
   "execution_count": 50
  }
 ],
 "metadata": {
  "kernelspec": {
   "display_name": "Python 3",
   "language": "python",
   "name": "python3"
  },
  "language_info": {
   "codemirror_mode": {
    "name": "ipython",
    "version": 2
   },
   "file_extension": ".py",
   "mimetype": "text/x-python",
   "name": "python",
   "nbconvert_exporter": "python",
   "pygments_lexer": "ipython2",
   "version": "2.7.6"
  }
 },
 "nbformat": 4,
 "nbformat_minor": 5
}
